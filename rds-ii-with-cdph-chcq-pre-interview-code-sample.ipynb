{
 "cells": [
  {
   "cell_type": "code",
   "execution_count": 1,
   "id": "6e98899e",
   "metadata": {
    "execution": {
     "iopub.execute_input": "2025-02-15T20:14:59.402925Z",
     "iopub.status.busy": "2025-02-15T20:14:59.402590Z",
     "iopub.status.idle": "2025-02-15T20:15:00.914803Z",
     "shell.execute_reply": "2025-02-15T20:15:00.913572Z"
    },
    "papermill": {
     "duration": 1.519971,
     "end_time": "2025-02-15T20:15:00.916761",
     "exception": false,
     "start_time": "2025-02-15T20:14:59.396790",
     "status": "completed"
    },
    "tags": []
   },
   "outputs": [],
   "source": [
    "# Import necessary libraries for data creation and analysis\n",
    "import duckdb\n",
    "import numpy as np\n",
    "import pandas as pd\n",
    "import matplotlib.pyplot as plt"
   ]
  },
  {
   "cell_type": "code",
   "execution_count": 2,
   "id": "ea217843",
   "metadata": {
    "_cell_guid": "b1076dfc-b9ad-4769-8c92-a6c4dae69d19",
    "_uuid": "8f2839f25d086af736a60e9eeb907d3b93b6e0e5",
    "execution": {
     "iopub.execute_input": "2025-02-15T20:15:00.925999Z",
     "iopub.status.busy": "2025-02-15T20:15:00.925115Z",
     "iopub.status.idle": "2025-02-15T20:15:00.931413Z",
     "shell.execute_reply": "2025-02-15T20:15:00.930472Z"
    },
    "papermill": {
     "duration": 0.012708,
     "end_time": "2025-02-15T20:15:00.933391",
     "exception": false,
     "start_time": "2025-02-15T20:15:00.920683",
     "status": "completed"
    },
    "tags": []
   },
   "outputs": [],
   "source": [
    "def create_sample_data():\n",
    "    \"\"\"\n",
    "    Creates sample tables for healthcare facility enforcement data analysis.\n",
    "    In practice, this would be real data from ASPEN and ELMS databases.\n",
    "    \"\"\"\n",
    "    # Create facilities table\n",
    "    duckdb.sql(\"\"\"\n",
    "        CREATE TABLE facilities AS \n",
    "        SELECT * FROM (\n",
    "            VALUES \n",
    "            (1, 'Valley Care', 'SNF', 'Active'),\n",
    "            (2, 'Sunshine Health', 'SNF', 'Active'),\n",
    "            (3, 'Harbor Hospital', 'Hospital', 'Active'),\n",
    "            (4, 'Mountain View Care', 'SNF', 'Inactive')\n",
    "        ) AS t (facility_id, facility_name, facility_type, status)\n",
    "    \"\"\")\n",
    "\n",
    "    # Create enforcement actions table\n",
    "    duckdb.sql(\"\"\"\n",
    "        CREATE TABLE enforcement_actions AS\n",
    "        SELECT * FROM (\n",
    "            VALUES \n",
    "            (1, 1, '2024-01-15', 'Complaint Investigation', 'Substantiated'),\n",
    "            (2, 1, '2024-02-01', 'Follow-up Visit', 'Resolved'),\n",
    "            (3, 2, '2024-01-20', 'Annual Survey', 'Deficiency Found'),\n",
    "            (4, 2, '2024-02-15', 'Complaint Investigation', 'Unsubstantiated'),\n",
    "            (5, 3, '2024-01-10', 'Complaint Investigation', 'Substantiated'),\n",
    "            (6, 3, '2024-02-20', 'Follow-up Visit', 'Pending')\n",
    "        ) AS t (action_id, facility_id, action_date, action_type, outcome)\n",
    "    \"\"\")\n",
    "\n",
    "    facilities = duckdb.sql(\"SELECT * FROM facilities\").df()\n",
    "    enforcement_actions = duckdb.sql(\"SELECT * FROM enforcement_actions\").df()\n",
    "    \n",
    "    return facilities, enforcement_actions"
   ]
  },
  {
   "cell_type": "code",
   "execution_count": 3,
   "id": "a6b48652",
   "metadata": {
    "execution": {
     "iopub.execute_input": "2025-02-15T20:15:00.941770Z",
     "iopub.status.busy": "2025-02-15T20:15:00.941288Z",
     "iopub.status.idle": "2025-02-15T20:15:00.985296Z",
     "shell.execute_reply": "2025-02-15T20:15:00.983944Z"
    },
    "papermill": {
     "duration": 0.050505,
     "end_time": "2025-02-15T20:15:00.987372",
     "exception": false,
     "start_time": "2025-02-15T20:15:00.936867",
     "status": "completed"
    },
    "tags": []
   },
   "outputs": [],
   "source": [
    "# Execute data creation function\n",
    "facilities, enforcement = create_sample_data()"
   ]
  },
  {
   "cell_type": "code",
   "execution_count": 4,
   "id": "e0aa5bdc",
   "metadata": {
    "execution": {
     "iopub.execute_input": "2025-02-15T20:15:00.995671Z",
     "iopub.status.busy": "2025-02-15T20:15:00.995275Z",
     "iopub.status.idle": "2025-02-15T20:15:01.024139Z",
     "shell.execute_reply": "2025-02-15T20:15:01.022972Z"
    },
    "papermill": {
     "duration": 0.034967,
     "end_time": "2025-02-15T20:15:01.025990",
     "exception": false,
     "start_time": "2025-02-15T20:15:00.991023",
     "status": "completed"
    },
    "tags": []
   },
   "outputs": [
    {
     "data": {
      "text/html": [
       "<div>\n",
       "<style scoped>\n",
       "    .dataframe tbody tr th:only-of-type {\n",
       "        vertical-align: middle;\n",
       "    }\n",
       "\n",
       "    .dataframe tbody tr th {\n",
       "        vertical-align: top;\n",
       "    }\n",
       "\n",
       "    .dataframe thead th {\n",
       "        text-align: right;\n",
       "    }\n",
       "</style>\n",
       "<table border=\"1\" class=\"dataframe\">\n",
       "  <thead>\n",
       "    <tr style=\"text-align: right;\">\n",
       "      <th></th>\n",
       "      <th>facility_id</th>\n",
       "      <th>facility_name</th>\n",
       "      <th>facility_type</th>\n",
       "      <th>status</th>\n",
       "    </tr>\n",
       "  </thead>\n",
       "  <tbody>\n",
       "    <tr>\n",
       "      <th>0</th>\n",
       "      <td>1</td>\n",
       "      <td>Valley Care</td>\n",
       "      <td>SNF</td>\n",
       "      <td>Active</td>\n",
       "    </tr>\n",
       "    <tr>\n",
       "      <th>1</th>\n",
       "      <td>2</td>\n",
       "      <td>Sunshine Health</td>\n",
       "      <td>SNF</td>\n",
       "      <td>Active</td>\n",
       "    </tr>\n",
       "    <tr>\n",
       "      <th>2</th>\n",
       "      <td>3</td>\n",
       "      <td>Harbor Hospital</td>\n",
       "      <td>Hospital</td>\n",
       "      <td>Active</td>\n",
       "    </tr>\n",
       "    <tr>\n",
       "      <th>3</th>\n",
       "      <td>4</td>\n",
       "      <td>Mountain View Care</td>\n",
       "      <td>SNF</td>\n",
       "      <td>Inactive</td>\n",
       "    </tr>\n",
       "  </tbody>\n",
       "</table>\n",
       "</div>"
      ],
      "text/plain": [
       "   facility_id       facility_name facility_type    status\n",
       "0            1         Valley Care           SNF    Active\n",
       "1            2     Sunshine Health           SNF    Active\n",
       "2            3     Harbor Hospital      Hospital    Active\n",
       "3            4  Mountain View Care           SNF  Inactive"
      ]
     },
     "execution_count": 4,
     "metadata": {},
     "output_type": "execute_result"
    }
   ],
   "source": [
    "# View the tables before analysis done on top of them.\n",
    "facilities"
   ]
  },
  {
   "cell_type": "code",
   "execution_count": 5,
   "id": "0d52d33a",
   "metadata": {
    "execution": {
     "iopub.execute_input": "2025-02-15T20:15:01.034868Z",
     "iopub.status.busy": "2025-02-15T20:15:01.034512Z",
     "iopub.status.idle": "2025-02-15T20:15:01.044643Z",
     "shell.execute_reply": "2025-02-15T20:15:01.043675Z"
    },
    "papermill": {
     "duration": 0.016308,
     "end_time": "2025-02-15T20:15:01.046245",
     "exception": false,
     "start_time": "2025-02-15T20:15:01.029937",
     "status": "completed"
    },
    "tags": []
   },
   "outputs": [
    {
     "data": {
      "text/html": [
       "<div>\n",
       "<style scoped>\n",
       "    .dataframe tbody tr th:only-of-type {\n",
       "        vertical-align: middle;\n",
       "    }\n",
       "\n",
       "    .dataframe tbody tr th {\n",
       "        vertical-align: top;\n",
       "    }\n",
       "\n",
       "    .dataframe thead th {\n",
       "        text-align: right;\n",
       "    }\n",
       "</style>\n",
       "<table border=\"1\" class=\"dataframe\">\n",
       "  <thead>\n",
       "    <tr style=\"text-align: right;\">\n",
       "      <th></th>\n",
       "      <th>action_id</th>\n",
       "      <th>facility_id</th>\n",
       "      <th>action_date</th>\n",
       "      <th>action_type</th>\n",
       "      <th>outcome</th>\n",
       "    </tr>\n",
       "  </thead>\n",
       "  <tbody>\n",
       "    <tr>\n",
       "      <th>0</th>\n",
       "      <td>1</td>\n",
       "      <td>1</td>\n",
       "      <td>2024-01-15</td>\n",
       "      <td>Complaint Investigation</td>\n",
       "      <td>Substantiated</td>\n",
       "    </tr>\n",
       "    <tr>\n",
       "      <th>1</th>\n",
       "      <td>2</td>\n",
       "      <td>1</td>\n",
       "      <td>2024-02-01</td>\n",
       "      <td>Follow-up Visit</td>\n",
       "      <td>Resolved</td>\n",
       "    </tr>\n",
       "    <tr>\n",
       "      <th>2</th>\n",
       "      <td>3</td>\n",
       "      <td>2</td>\n",
       "      <td>2024-01-20</td>\n",
       "      <td>Annual Survey</td>\n",
       "      <td>Deficiency Found</td>\n",
       "    </tr>\n",
       "    <tr>\n",
       "      <th>3</th>\n",
       "      <td>4</td>\n",
       "      <td>2</td>\n",
       "      <td>2024-02-15</td>\n",
       "      <td>Complaint Investigation</td>\n",
       "      <td>Unsubstantiated</td>\n",
       "    </tr>\n",
       "    <tr>\n",
       "      <th>4</th>\n",
       "      <td>5</td>\n",
       "      <td>3</td>\n",
       "      <td>2024-01-10</td>\n",
       "      <td>Complaint Investigation</td>\n",
       "      <td>Substantiated</td>\n",
       "    </tr>\n",
       "    <tr>\n",
       "      <th>5</th>\n",
       "      <td>6</td>\n",
       "      <td>3</td>\n",
       "      <td>2024-02-20</td>\n",
       "      <td>Follow-up Visit</td>\n",
       "      <td>Pending</td>\n",
       "    </tr>\n",
       "  </tbody>\n",
       "</table>\n",
       "</div>"
      ],
      "text/plain": [
       "   action_id  facility_id action_date              action_type  \\\n",
       "0          1            1  2024-01-15  Complaint Investigation   \n",
       "1          2            1  2024-02-01          Follow-up Visit   \n",
       "2          3            2  2024-01-20            Annual Survey   \n",
       "3          4            2  2024-02-15  Complaint Investigation   \n",
       "4          5            3  2024-01-10  Complaint Investigation   \n",
       "5          6            3  2024-02-20          Follow-up Visit   \n",
       "\n",
       "            outcome  \n",
       "0     Substantiated  \n",
       "1          Resolved  \n",
       "2  Deficiency Found  \n",
       "3   Unsubstantiated  \n",
       "4     Substantiated  \n",
       "5           Pending  "
      ]
     },
     "execution_count": 5,
     "metadata": {},
     "output_type": "execute_result"
    }
   ],
   "source": [
    "enforcement"
   ]
  },
  {
   "cell_type": "code",
   "execution_count": 6,
   "id": "7c4f6cea",
   "metadata": {
    "execution": {
     "iopub.execute_input": "2025-02-15T20:15:01.055308Z",
     "iopub.status.busy": "2025-02-15T20:15:01.054956Z",
     "iopub.status.idle": "2025-02-15T20:15:01.060292Z",
     "shell.execute_reply": "2025-02-15T20:15:01.059210Z"
    },
    "papermill": {
     "duration": 0.01183,
     "end_time": "2025-02-15T20:15:01.062134",
     "exception": false,
     "start_time": "2025-02-15T20:15:01.050304",
     "status": "completed"
    },
    "tags": []
   },
   "outputs": [],
   "source": [
    "def get_enforcement_metrics():\n",
    "    \"\"\"\n",
    "    Analyzes enforcement actions and facility compliance patterns.\n",
    "    Returns detailed data and summary metrics.\n",
    "    \"\"\"\n",
    "    # Execute SQL query to analyze enforcement patterns\n",
    "    detailed_data = duckdb.sql(\"\"\"\n",
    "        WITH EnforcementSummary AS (\n",
    "            SELECT \n",
    "                f.facility_id,\n",
    "                f.facility_name,\n",
    "                f.facility_type,\n",
    "                COUNT(ea.action_id) as total_actions,\n",
    "                SUM(CASE WHEN ea.outcome = 'Substantiated' THEN 1 ELSE 0 END) as substantiated_complaints,\n",
    "                SUM(CASE WHEN ea.action_type = 'Follow-up Visit' THEN 1 ELSE 0 END) as followup_visits\n",
    "            FROM facilities f\n",
    "            LEFT JOIN enforcement_actions ea ON f.facility_id = ea.facility_id\n",
    "            WHERE f.status = 'Active'\n",
    "            GROUP BY f.facility_id, f.facility_name, f.facility_type\n",
    "        )\n",
    "        SELECT \n",
    "            *,\n",
    "            CAST(substantiated_complaints AS FLOAT) / NULLIF(total_actions, 0) as substantiation_rate\n",
    "        FROM EnforcementSummary\n",
    "        ORDER BY total_actions DESC\n",
    "    \"\"\").df()\n",
    "\n",
    "    # Calculate summary statistics\n",
    "    summary_metrics = {\n",
    "        'total_facilities': len(detailed_data),\n",
    "        'avg_actions_per_facility': detailed_data['total_actions'].mean(),\n",
    "        'total_substantiated': detailed_data['substantiated_complaints'].sum(),\n",
    "        'avg_substantiation_rate': detailed_data['substantiation_rate'].mean()\n",
    "    }\n",
    "\n",
    "    return detailed_data, summary_metrics"
   ]
  },
  {
   "cell_type": "code",
   "execution_count": 7,
   "id": "0155ab31",
   "metadata": {
    "execution": {
     "iopub.execute_input": "2025-02-15T20:15:01.070982Z",
     "iopub.status.busy": "2025-02-15T20:15:01.070644Z",
     "iopub.status.idle": "2025-02-15T20:15:01.105101Z",
     "shell.execute_reply": "2025-02-15T20:15:01.104116Z"
    },
    "papermill": {
     "duration": 0.041378,
     "end_time": "2025-02-15T20:15:01.107252",
     "exception": false,
     "start_time": "2025-02-15T20:15:01.065874",
     "status": "completed"
    },
    "tags": []
   },
   "outputs": [],
   "source": [
    "# Execute enforcement actions and facility compliance patterns function\n",
    "detailed_data, summary_metrics = get_enforcement_metrics()"
   ]
  },
  {
   "cell_type": "code",
   "execution_count": 8,
   "id": "5172259d",
   "metadata": {
    "execution": {
     "iopub.execute_input": "2025-02-15T20:15:01.116998Z",
     "iopub.status.busy": "2025-02-15T20:15:01.116669Z",
     "iopub.status.idle": "2025-02-15T20:15:01.128669Z",
     "shell.execute_reply": "2025-02-15T20:15:01.127550Z"
    },
    "papermill": {
     "duration": 0.019077,
     "end_time": "2025-02-15T20:15:01.130285",
     "exception": false,
     "start_time": "2025-02-15T20:15:01.111208",
     "status": "completed"
    },
    "tags": []
   },
   "outputs": [
    {
     "data": {
      "text/html": [
       "<div>\n",
       "<style scoped>\n",
       "    .dataframe tbody tr th:only-of-type {\n",
       "        vertical-align: middle;\n",
       "    }\n",
       "\n",
       "    .dataframe tbody tr th {\n",
       "        vertical-align: top;\n",
       "    }\n",
       "\n",
       "    .dataframe thead th {\n",
       "        text-align: right;\n",
       "    }\n",
       "</style>\n",
       "<table border=\"1\" class=\"dataframe\">\n",
       "  <thead>\n",
       "    <tr style=\"text-align: right;\">\n",
       "      <th></th>\n",
       "      <th>facility_id</th>\n",
       "      <th>facility_name</th>\n",
       "      <th>facility_type</th>\n",
       "      <th>total_actions</th>\n",
       "      <th>substantiated_complaints</th>\n",
       "      <th>followup_visits</th>\n",
       "      <th>substantiation_rate</th>\n",
       "    </tr>\n",
       "  </thead>\n",
       "  <tbody>\n",
       "    <tr>\n",
       "      <th>0</th>\n",
       "      <td>1</td>\n",
       "      <td>Valley Care</td>\n",
       "      <td>SNF</td>\n",
       "      <td>2</td>\n",
       "      <td>1.0</td>\n",
       "      <td>1.0</td>\n",
       "      <td>0.5</td>\n",
       "    </tr>\n",
       "    <tr>\n",
       "      <th>1</th>\n",
       "      <td>2</td>\n",
       "      <td>Sunshine Health</td>\n",
       "      <td>SNF</td>\n",
       "      <td>2</td>\n",
       "      <td>0.0</td>\n",
       "      <td>0.0</td>\n",
       "      <td>0.0</td>\n",
       "    </tr>\n",
       "    <tr>\n",
       "      <th>2</th>\n",
       "      <td>3</td>\n",
       "      <td>Harbor Hospital</td>\n",
       "      <td>Hospital</td>\n",
       "      <td>2</td>\n",
       "      <td>1.0</td>\n",
       "      <td>1.0</td>\n",
       "      <td>0.5</td>\n",
       "    </tr>\n",
       "  </tbody>\n",
       "</table>\n",
       "</div>"
      ],
      "text/plain": [
       "   facility_id    facility_name facility_type  total_actions  \\\n",
       "0            1      Valley Care           SNF              2   \n",
       "1            2  Sunshine Health           SNF              2   \n",
       "2            3  Harbor Hospital      Hospital              2   \n",
       "\n",
       "   substantiated_complaints  followup_visits  substantiation_rate  \n",
       "0                       1.0              1.0                  0.5  \n",
       "1                       0.0              0.0                  0.0  \n",
       "2                       1.0              1.0                  0.5  "
      ]
     },
     "execution_count": 8,
     "metadata": {},
     "output_type": "execute_result"
    }
   ],
   "source": [
    "detailed_data"
   ]
  },
  {
   "cell_type": "code",
   "execution_count": 9,
   "id": "a5d91dfb",
   "metadata": {
    "execution": {
     "iopub.execute_input": "2025-02-15T20:15:01.139618Z",
     "iopub.status.busy": "2025-02-15T20:15:01.139103Z",
     "iopub.status.idle": "2025-02-15T20:15:01.148261Z",
     "shell.execute_reply": "2025-02-15T20:15:01.147100Z"
    },
    "papermill": {
     "duration": 0.0161,
     "end_time": "2025-02-15T20:15:01.150286",
     "exception": false,
     "start_time": "2025-02-15T20:15:01.134186",
     "status": "completed"
    },
    "tags": []
   },
   "outputs": [],
   "source": [
    "def create_enforcement_visualizations(data):\n",
    "    \"\"\"\n",
    "    Creates visualizations of enforcement metrics using matplotlib.\n",
    "    Uses styling and proper axis and legend placement.\n",
    "    \"\"\"\n",
    "    # Use appropriate seaborn style name\n",
    "    plt.style.use('seaborn-v0_8')\n",
    "    \n",
    "    # Create a figure with 2 subplots\n",
    "    fig, (ax1, ax2) = plt.subplots(1, 2, figsize=(20, 6))\n",
    "    \n",
    "    # Plot 1: Comparison of Actions by Facility\n",
    "    bar_width = 0.35\n",
    "    facilities = data['facility_name']\n",
    "    x = np.arange(len(facilities))  # Use numpy for consistent spacing\n",
    "    \n",
    "    ax1.bar(x, data['total_actions'], bar_width, label='Total Actions', color='skyblue')\n",
    "    ax1.bar(x + bar_width, data['substantiated_complaints'], \n",
    "            bar_width, label='Substantiated Complaints', color='orange')\n",
    "    \n",
    "    ax1.set_ylabel('Number of Actions')\n",
    "    ax1.set_title('Enforcement Actions by Facility')\n",
    "    ax1.set_xticks(x + bar_width/2)\n",
    "    ax1.set_xticklabels(facilities, rotation=45, ha='right')\n",
    "    # Move legend to the upper right corner outside the plot\n",
    "    ax1.legend(bbox_to_anchor=(1.05, 1), loc='upper left')\n",
    "    \n",
    "    # Plot 2: Substantiation Rates\n",
    "    colors = ['lightgreen' if rate > 0.4 else 'lightcoral' for rate in data['substantiation_rate']]\n",
    "    \n",
    "    # Create bar plot with explicit x positions\n",
    "    x2 = np.arange(len(facilities))\n",
    "    ax2.bar(x2, data['substantiation_rate'], color=colors)\n",
    "    ax2.set_ylabel('Substantiation Rate')\n",
    "    ax2.set_title('Substantiation Rate by Facility')\n",
    "    ax2.set_xticks(x2)\n",
    "    ax2.set_xticklabels(facilities, rotation=45, ha='right')\n",
    "    ax2.axhline(y=data['substantiation_rate'].mean(), color='red', linestyle='--', \n",
    "                label='Average Rate')\n",
    "    # Move legend to the upper right corner outside the plot\n",
    "    ax2.legend(bbox_to_anchor=(1.05, 1), loc='upper left')\n",
    "    \n",
    "    # Format y-axis as percentage\n",
    "    ax2.yaxis.set_major_formatter(plt.FuncFormatter(lambda y, _: '{:.0%}'.format(y)))\n",
    "    \n",
    "    # Adjust layout to prevent label cutoff and accommodate legends\n",
    "    plt.tight_layout()\n",
    "    \n",
    "    # Add extra space on the right for the legends\n",
    "    plt.subplots_adjust(right=0.85)\n",
    "    \n",
    "    # Display the plots\n",
    "    plt.show()"
   ]
  },
  {
   "cell_type": "code",
   "execution_count": 10,
   "id": "3698b9df",
   "metadata": {
    "execution": {
     "iopub.execute_input": "2025-02-15T20:15:01.159906Z",
     "iopub.status.busy": "2025-02-15T20:15:01.159525Z",
     "iopub.status.idle": "2025-02-15T20:15:01.720437Z",
     "shell.execute_reply": "2025-02-15T20:15:01.719227Z"
    },
    "papermill": {
     "duration": 0.568068,
     "end_time": "2025-02-15T20:15:01.722556",
     "exception": false,
     "start_time": "2025-02-15T20:15:01.154488",
     "status": "completed"
    },
    "tags": []
   },
   "outputs": [
    {
     "data": {
      "image/png": "[encoded data removed]",
      "text/plain": [
       "<Figure size 2000x600 with 2 Axes>"
      ]
     },
     "metadata": {},
     "output_type": "display_data"
    }
   ],
   "source": [
    "# Get a quick visual of facility metrics\n",
    "create_enforcement_visualizations(detailed_data)"
   ]
  },
  {
   "cell_type": "code",
   "execution_count": 11,
   "id": "49a6d764",
   "metadata": {
    "execution": {
     "iopub.execute_input": "2025-02-15T20:15:01.735092Z",
     "iopub.status.busy": "2025-02-15T20:15:01.734676Z",
     "iopub.status.idle": "2025-02-15T20:15:01.740389Z",
     "shell.execute_reply": "2025-02-15T20:15:01.739257Z"
    },
    "papermill": {
     "duration": 0.013954,
     "end_time": "2025-02-15T20:15:01.742276",
     "exception": false,
     "start_time": "2025-02-15T20:15:01.728322",
     "status": "completed"
    },
    "tags": []
   },
   "outputs": [],
   "source": [
    "# Create summary report\n",
    "def generate_report(data, metrics):\n",
    "    \"\"\"\n",
    "    Generates a formatted report of enforcement findings.\n",
    "    \"\"\"\n",
    "    report = f\"\"\"Enforcement Analysis Report\n",
    "------------------------\n",
    "Summary Metrics:\n",
    "- Total Active Facilities: {metrics['total_facilities']}\n",
    "- Average Actions per Facility: {metrics['avg_actions_per_facility']:.2f}\n",
    "- Total Substantiated Complaints: {metrics['total_substantiated']}\n",
    "- Average Substantiation Rate: {metrics['avg_substantiation_rate']:.2%}\n",
    "\n",
    "Detailed Facility Analysis:\n",
    "\"\"\"\n",
    "    \n",
    "    for _, row in data.iterrows():\n",
    "        report += f\"\\n{row['facility_name']} ({row['facility_type']})\"\n",
    "        report += f\"\\n  - Total Actions: {row['total_actions']}\"\n",
    "        report += f\"\\n  - Substantiated Complaints: {row['substantiated_complaints']}\"\n",
    "        report += f\"\\n  - Follow-up Visits: {row['followup_visits']}\"\n",
    "        report += f\"\\n  - Substantiation Rate: {row['substantiation_rate']:.2%}\\n\"\n",
    "    \n",
    "    return report"
   ]
  },
  {
   "cell_type": "code",
   "execution_count": 12,
   "id": "35b711e4",
   "metadata": {
    "execution": {
     "iopub.execute_input": "2025-02-15T20:15:01.753880Z",
     "iopub.status.busy": "2025-02-15T20:15:01.753525Z",
     "iopub.status.idle": "2025-02-15T20:15:01.760033Z",
     "shell.execute_reply": "2025-02-15T20:15:01.758665Z"
    },
    "papermill": {
     "duration": 0.014766,
     "end_time": "2025-02-15T20:15:01.762322",
     "exception": false,
     "start_time": "2025-02-15T20:15:01.747556",
     "status": "completed"
    },
    "tags": []
   },
   "outputs": [
    {
     "name": "stdout",
     "output_type": "stream",
     "text": [
      "Enforcement Analysis Report\n",
      "------------------------\n",
      "Summary Metrics:\n",
      "- Total Active Facilities: 3\n",
      "- Average Actions per Facility: 2.00\n",
      "- Total Substantiated Complaints: 2.0\n",
      "- Average Substantiation Rate: 33.33%\n",
      "\n",
      "Detailed Facility Analysis:\n",
      "\n",
      "Valley Care (SNF)\n",
      "  - Total Actions: 2\n",
      "  - Substantiated Complaints: 1.0\n",
      "  - Follow-up Visits: 1.0\n",
      "  - Substantiation Rate: 50.00%\n",
      "\n",
      "Sunshine Health (SNF)\n",
      "  - Total Actions: 2\n",
      "  - Substantiated Complaints: 0.0\n",
      "  - Follow-up Visits: 0.0\n",
      "  - Substantiation Rate: 0.00%\n",
      "\n",
      "Harbor Hospital (Hospital)\n",
      "  - Total Actions: 2\n",
      "  - Substantiated Complaints: 1.0\n",
      "  - Follow-up Visits: 1.0\n",
      "  - Substantiation Rate: 50.00%\n",
      "\n"
     ]
    }
   ],
   "source": [
    "# Execute summary report\n",
    "report = generate_report(detailed_data, summary_metrics)\n",
    "print(report)"
   ]
  }
 ],
 "metadata": {
  "kaggle": {
   "accelerator": "none",
   "dataSources": [],
   "dockerImageVersionId": 30886,
   "isGpuEnabled": false,
   "isInternetEnabled": true,
   "language": "python",
   "sourceType": "notebook"
  },
  "kernelspec": {
   "display_name": "Python 3",
   "language": "python",
   "name": "python3"
  },
  "language_info": {
   "codemirror_mode": {
    "name": "ipython",
    "version": 3
   },
   "file_extension": ".py",
   "mimetype": "text/x-python",
   "name": "python",
   "nbconvert_exporter": "python",
   "pygments_lexer": "ipython3",
   "version": "3.10.12"
  },
  "papermill": {
   "default_parameters": {},
   "duration": 5.901524,
   "end_time": "2025-02-15T20:15:02.390428",
   "environment_variables": {},
   "exception": null,
   "input_path": "__notebook__.ipynb",
   "output_path": "__notebook__.ipynb",
   "parameters": {},
   "start_time": "2025-02-15T20:14:56.488904",
   "version": "2.6.0"
  }
 },
 "nbformat": 4,
 "nbformat_minor": 5
}
